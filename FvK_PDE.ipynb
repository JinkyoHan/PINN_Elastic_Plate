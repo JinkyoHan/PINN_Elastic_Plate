{
  "cells": [
    {
      "cell_type": "markdown",
      "metadata": {
        "id": "view-in-github",
        "colab_type": "text"
      },
      "source": [
        "<a href=\"https://colab.research.google.com/github/JinkyoHan/PINN_Elastic_Plate/blob/main/FvK_PDE.ipynb\" target=\"_parent\"><img src=\"https://colab.research.google.com/assets/colab-badge.svg\" alt=\"Open In Colab\"/></a>"
      ]
    },
    {
      "cell_type": "code",
      "execution_count": null,
      "metadata": {
        "id": "VqVwaB5Ifkfw"
      },
      "outputs": [],
      "source": [
        "import numpy as np\n",
        "import torch\n",
        "import torch.nn as nn\n",
        "import matplotlib.pyplot as plt\n",
        "from matplotlib import cm\n",
        "from mpl_toolkits.mplot3d import Axes3D"
      ]
    },
    {
      "cell_type": "code",
      "execution_count": null,
      "metadata": {
        "id": "gL_la-VDm0Ju"
      },
      "outputs": [],
      "source": [
        "# Problem Statements\n",
        "\n",
        "E = 205900 # N/mm^2 or GPa\n",
        "mu = 0.3\n",
        "\n",
        "h = 0.1 # mm\n",
        "q = 0 # N\n",
        "a = 50 # mm\n",
        "b = 50 # mm\n",
        "\n",
        "D = E*h**3/(1-mu**2)/12.\n",
        "C = E*h/(1 - mu**2)\n",
        "\n",
        "u_disp = 0.5 # mm, how much to compress\n",
        "eps_ = u_disp / 2 / a\n",
        "\n",
        "# Shape Functions\n",
        "func_u1 = lambda x: (x[:,0]-1)*(x[:,0]+1)*(x[:,0])\n",
        "func_u2 = lambda x: (x[:,0])\n",
        "\n",
        "func_v1 = lambda x: (x[:,1])\n",
        "func_v2 = lambda x: (x[:,1])\n",
        "\n",
        "func_w = lambda x: (x[:,0]+1)*(x[:,0]-1)*(x[:,1]+1)*(x[:,1]-1)"
      ]
    },
    {
      "cell_type": "code",
      "execution_count": null,
      "metadata": {
        "id": "IFXzPJEQfpB0"
      },
      "outputs": [],
      "source": [
        "class Net(nn.Module):\n",
        "\n",
        "    def __init__(self, n_input, n_output, n_layer, n_nodes):\n",
        "        super(Net, self).__init__()\n",
        "        self.n_layer = n_layer\n",
        "\n",
        "        self.Input = nn.Linear(n_input, n_nodes)\n",
        "        nn.init.xavier_uniform_(self.Input.weight)\n",
        "        nn.init.normal_(self.Input.bias)\n",
        "\n",
        "        self.Output = nn.Linear(n_nodes, n_output)\n",
        "        nn.init.xavier_uniform_(self.Output.weight)\n",
        "        nn.init.normal_(self.Output.bias)\n",
        "\n",
        "        self.Hidden = nn.ModuleList()\n",
        "        for i in range(n_layer):\n",
        "            self.Hidden.append(nn.Linear(n_nodes, n_nodes))\n",
        "        for layer in self.Hidden:\n",
        "            nn.init.xavier_uniform_(layer.weight)\n",
        "            nn.init.normal_(layer.bias)\n",
        "\n",
        "\n",
        "    def forward(self, x):\n",
        "        y = torch.tanh(self.Input(x))\n",
        "        for layer in self.Hidden:\n",
        "            y = torch.tanh(layer(y))\n",
        "        y = self.Output(y)\n",
        "        return y"
      ]
    },
    {
      "cell_type": "code",
      "execution_count": null,
      "metadata": {
        "id": "ocBZQ1NFR0DT"
      },
      "outputs": [],
      "source": [
        "def derivatives_1(x, w):\n",
        "\n",
        "    dw_xy = torch.autograd.grad(w, x, torch.ones_like(w), retain_graph=True,\n",
        "    create_graph=True, allow_unused=True)\n",
        "    dw_x = dw_xy[0][:,0].view(-1,1)\n",
        "    dw_y = dw_xy[0][:,1].view(-1,1)\n",
        "\n",
        "    return dw_x, dw_y"
      ]
    },
    {
      "cell_type": "code",
      "execution_count": null,
      "metadata": {
        "id": "DQjfxKqUfrco"
      },
      "outputs": [],
      "source": [
        "def derivatives_2(x, w):\n",
        "\n",
        "    dw_xy = torch.autograd.grad(w, x, torch.ones_like(w), retain_graph=True,\n",
        "    create_graph=True, allow_unused=True)\n",
        "    dw_x = dw_xy[0][:,0].view(-1,1)\n",
        "    dw_y = dw_xy[0][:,1].view(-1,1)\n",
        "\n",
        "    # second partial derivative\n",
        "    dw_xxy = torch.autograd.grad(dw_x, x, torch.ones_like(dw_x), retain_graph=True,\n",
        "    create_graph=True,allow_unused=True)\n",
        "    dw_xx = dw_xxy[0][:,0].view(-1,1)\n",
        "    dw_xy = dw_xxy[0][:,1].view(-1,1)\n",
        "    dw_yy = torch.autograd.grad(dw_y, x, torch.ones_like(dw_y), retain_graph=True,\n",
        "    create_graph=True,allow_unused=True)[0][:,1].view(-1,1)\n",
        "\n",
        "    return dw_x, dw_y, dw_xx, dw_yy, dw_xy"
      ]
    },
    {
      "cell_type": "code",
      "execution_count": null,
      "metadata": {
        "id": "P8hroKazR0DU"
      },
      "outputs": [],
      "source": [
        "def derivatives_4(x, w):\n",
        "\n",
        "    # 첫 번째 및 두 번째 도함수 계산\n",
        "    dw_xy = torch.autograd.grad(w, x, torch.ones_like(w), retain_graph=True, create_graph=True, allow_unused=True)\n",
        "    dw_x = dw_xy[0][:, 0].view(-1, 1)\n",
        "    dw_y = dw_xy[0][:, 1].view(-1, 1)\n",
        "\n",
        "    # 두 번째 도함수 계산\n",
        "    dw_xxy = torch.autograd.grad(dw_x, x, torch.ones_like(dw_x), retain_graph=True, create_graph=True, allow_unused=True)\n",
        "    dw_xx = dw_xxy[0][:, 0].view(-1, 1)\n",
        "    dw_xy = dw_xxy[0][:, 1].view(-1, 1)\n",
        "    dw_yy = torch.autograd.grad(dw_y, x, torch.ones_like(dw_y), retain_graph=True, create_graph=True, allow_unused=True)[0][:, 1].view(-1, 1)\n",
        "\n",
        "    # 네 번째 도함수 계산\n",
        "    dw_xxxx = torch.autograd.grad(dw_xx, x, torch.ones_like(dw_xx), retain_graph=True, create_graph=True, allow_unused=True)[0][:, 0].view(-1, 1)\n",
        "    dw_yyyy = torch.autograd.grad(dw_yy, x, torch.ones_like(dw_yy), retain_graph=True, create_graph=True, allow_unused=True)[0][:, 1].view(-1, 1)\n",
        "    dw_xxyy = torch.autograd.grad(dw_xy, x, torch.ones_like(dw_xy), retain_graph=True, create_graph=True, allow_unused=True)[0][:, 1].view(-1, 1)\n",
        "\n",
        "    return dw_x, dw_y, dw_xx, dw_yy, dw_xy, dw_xxxx, dw_yyyy, dw_xxyy\n"
      ]
    },
    {
      "cell_type": "code",
      "execution_count": null,
      "metadata": {
        "id": "LI6b5WEqR0DU"
      },
      "outputs": [],
      "source": [
        "def FvK_equation(x, Net_w, Net_u, Net_v):\n",
        "\n",
        "    w = Net_w(x) * (func_w(x).view(-1, 1))\n",
        "    u = Net_u(x) * (func_u1(x).view(-1, 1)) - eps_ * (func_u2(x).view(-1, 1))\n",
        "    v = Net_v(x) * (func_v1(x).view(-1, 1))\n",
        "\n",
        "    # Calculate Derivatives\n",
        "    dw_x, dw_y, dw_xx, dw_yy, dw_xy = derivatives_2(x, w)\n",
        "    du_x, du_y, du_xx, du_yy, du_xy = derivatives_2(x, u)\n",
        "    dv_x, dv_y, dv_xx, dv_yy, dv_xy = derivatives_2(x, v)\n",
        "\n",
        "    #dw_xxxx, dw_yyyy, dw_xxyy = derivatives_4(x, Net_w, func_w)\n",
        "\n",
        "    # Dimensionalize parameters\n",
        "    w, u, v = w*h, u*a, v*b\n",
        "    dw_x, dw_y, du_y, dv_x = dw_x*h/a, dw_y*h/b, du_y*a/b, dv_x*b/a\n",
        "    dw_xx, dw_yy, dw_xy = dw_xx*h/a**2, dw_yy*h/b**2, dw_xy*h/a/b\n",
        "    du_xx, du_yy, du_xy = du_xx*a/a**2, du_yy*a/b**2, du_xy*a/a/b\n",
        "    dv_xx, dw_yy, dw_xy = dv_xx*b/a**2, dv_yy*b/b**2, dv_xy*b/a/b\n",
        "    #dw_xxxx, dw_yyyy, dw_xxyy = dw_xxxx*h/a**4, dw_yyyy*h/b**4, dw_xxyy*h/a**2/b**2\n",
        "\n",
        "    # Compatibility Equations\n",
        "      # Displacements\n",
        "    eps_xx = du_x + 0.5*dw_x**2\n",
        "    eps_yy = dv_y + 0.5*dw_y**2\n",
        "    eps_xy = 0.5*(du_y + dv_x) + dw_y*dw_x\n",
        "\n",
        "    k_xx = -dw_xx\n",
        "    k_yy = -dw_yy\n",
        "    k_xy = -dw_xy\n",
        "\n",
        "      # Resultants\n",
        "    N_xx = C*(eps_xx + mu*eps_yy)\n",
        "    N_yy = C*(eps_yy + mu*eps_xx)\n",
        "    N_xy = C*(1 - mu)*eps_xy\n",
        "\n",
        "    M_xx = D*(k_xx + mu*k_yy)\n",
        "    M_yy = D*(k_yy + mu*k_xx)\n",
        "    M_xy = D*(1 - mu)*dw_xy\n",
        "\n",
        "    _, _, dM_xx_xx, _, _ = derivatives_2(x, M_xx)\n",
        "    _, _, _, dM_yy_yy, _ = derivatives_2(x, M_yy)\n",
        "    _, _, _, _, dM_xy_xy = derivatives_2(x, M_xy)\n",
        "\n",
        "    # PDE: Classic FvK Equation\n",
        "    PDE = (dM_xx_xx + 2*dM_xy_xy + dM_yy_yy + N_xx*dw_xx + 2*N_xy*dw_xy + N_yy*dw_yy + q)**2\n",
        "\n",
        "    # BC: to be implemented by yourself.\n",
        "    BC_v  = (N_yy[x[:,1]== -1])**2\n",
        "    BC_v += (N_yy[x[:,1]==  1])**2\n",
        "\n",
        "    BC_s  = (N_xy[x[:,0]== -1])**2\n",
        "    BC_s += (N_xy[x[:,0]==  1])**2\n",
        "    BC_s += (N_xy[x[:,1]== -1])**2\n",
        "    BC_s += (N_xy[x[:,1]==  1])**2\n",
        "\n",
        "    BC_m  = (M_xx[x[:,1]== -1])**2\n",
        "    BC_m += (M_xx[x[:,1]==  1])**2\n",
        "    BC_m += (M_yy[x[:,0]== -1])**2\n",
        "    BC_m += (M_yy[x[:,0]==  1])**2\n",
        "\n",
        "    BC = BC_v + BC_s + BC_m\n",
        "\n",
        "    return torch.mean(PDE), torch.mean(BC)"
      ]
    },
    {
      "cell_type": "code",
      "execution_count": null,
      "metadata": {
        "id": "tzmjdwM5f0--"
      },
      "outputs": [],
      "source": [
        "def train_data(Nx, Ny, Nf):\n",
        "    x = np.linspace(-1, 1, Nx).reshape([Nx, 1])\n",
        "    y = np.linspace(-1, 1, Ny).reshape([Ny, 1])\n",
        "\n",
        "    # 경계 포인트 생성\n",
        "    Xb = np.vstack([np.hstack([x, np.full_like(x, -1)]),  # 아래쪽 경계\n",
        "                    np.hstack([x, np.full_like(x, 1)]),   # 윗쪽 경계\n",
        "                    np.hstack([np.full_like(y, -1), y]),  # 왼쪽 경계\n",
        "                    np.hstack([np.full_like(y, 1), y])])  # 오른쪽 경계\n",
        "    Xb = np.unique(Xb, axis=0)\n",
        "    Xf1 = torch.tensor(Xb, dtype=torch.float32, requires_grad=True)\n",
        "\n",
        "    # 내부 포인트 생성\n",
        "    while True:\n",
        "        Xf2 = np.random.rand(Nf, 2) * 2 - 1\n",
        "        # 경계선에 있는 포인트 제거\n",
        "        Xf2 = Xf2[~((np.isclose(Xf2[:, 0], -1) | np.isclose(Xf2[:, 0], 1)) |\n",
        "                    (np.isclose(Xf2[:, 1], -1) | np.isclose(Xf2[:, 1], 1)))]\n",
        "        if len(Xf2) >= Nf:\n",
        "            break\n",
        "    Xf2 = Xf2[:Nf]\n",
        "    Xf2 = torch.tensor(Xf2, dtype=torch.float32, requires_grad=True)\n",
        "\n",
        "    return Xf1, Xf2\n"
      ]
    },
    {
      "cell_type": "code",
      "execution_count": null,
      "metadata": {
        "id": "6TtVzBZbf2j0"
      },
      "outputs": [],
      "source": [
        "# Prepare training data\n",
        "Nx1 = 30\n",
        "Ny1 = 30\n",
        "Nf1 = 8000\n",
        "\n",
        "Xf1, Xf2 = train_data(Nx1, Ny1, Nf1)\n",
        "Xf = torch.cat([Xf1, Xf2], dim=0)\n",
        "\n",
        "Net_w = Net(2, 1, 6,6)\n",
        "Net_u = Net(2, 1, 6,6)\n",
        "Net_v = Net(2, 1, 6,6)"
      ]
    },
    {
      "cell_type": "code",
      "execution_count": null,
      "metadata": {
        "id": "JWG6csfhR0DX",
        "colab": {
          "base_uri": "https://localhost:8080/"
        },
        "outputId": "49247d6d-941d-4d27-a624-de0a9d115c03"
      },
      "outputs": [
        {
          "output_type": "stream",
          "name": "stdout",
          "text": [
            "epoch:100, Loss1:1.7013e-05, Loss2:1.3754e-06, Loss3:1.1260e-04\n",
            "epoch:200, Loss1:1.2916e-05, Loss2:1.0423e-06, Loss3:6.2260e-06\n",
            "epoch:300, Loss1:1.0832e-05, Loss2:8.9044e-07, Loss3:5.6609e-06\n",
            "epoch:400, Loss1:9.2413e-06, Loss2:7.4848e-07, Loss3:5.0652e-06\n",
            "epoch:500, Loss1:8.0443e-06, Loss2:6.2315e-07, Loss3:4.4715e-06\n",
            "epoch:600, Loss1:7.1335e-06, Loss2:5.1583e-07, Loss3:3.9041e-06\n",
            "epoch:700, Loss1:6.4325e-06, Loss2:4.2536e-07, Loss3:3.3780e-06\n",
            "epoch:800, Loss1:5.8942e-06, Loss2:3.4967e-07, Loss3:2.9018e-06\n",
            "epoch:900, Loss1:5.4859e-06, Loss2:2.8653e-07, Loss3:2.4791e-06\n",
            "epoch:1000, Loss1:5.1729e-06, Loss2:2.3387e-07, Loss3:2.1100e-06\n"
          ]
        }
      ],
      "source": [
        "# Pretraining the neural network to fit different initial buckling mode\n",
        "nepoches = 1000\n",
        "learning_rate = 2e-3\n",
        "# optimizer_w = torch.optim.Adam(Net_w.parameters(), lr=learning_rate)\n",
        "# optimizer_f = torch.optim.Adam(Net_f.parameters(), lr=learning_rate)\n",
        "optimizer = torch.optim.Adam(list(Net_w.parameters()) + list(Net_u.parameters()) + list(Net_v.parameters()),\n",
        "                             lr= learning_rate)\n",
        "for epoch in range(nepoches):\n",
        "\n",
        "    w = Net_w(Xf2) * (func_w(Xf2).view(-1, 1))\n",
        "    u = Net_u(Xf2) * (func_u1(Xf2).view(-1, 1)) - eps_ * (func_u2(Xf2).view(-1, 1))\n",
        "    v = Net_v(Xf2) * (func_v1(Xf2).view(-1, 1))\n",
        "\n",
        "    loss1 = torch.mean((w - 0.1*torch.cos(Xf2[:,0].view(-1,1)*3.14*0.5)*torch.cos(Xf2[:,1].view(-1,1)*3.14*0.5))**2)\n",
        "    loss2 = torch.mean((u + eps_*(Xf2[:,0].view(-1,1)))**2)\n",
        "    loss3 = torch.mean(((v - mu*eps_*(Xf2[:,1].view(-1,1)))/mu)**2)\n",
        "\n",
        "    loss1.backward()\n",
        "    optimizer.step()\n",
        "    optimizer.zero_grad()\n",
        "    loss2.backward()\n",
        "    optimizer.step()\n",
        "    optimizer.zero_grad()\n",
        "    loss3.backward()\n",
        "    optimizer.step()\n",
        "    optimizer.zero_grad()\n",
        "\n",
        "    if (epoch+1) % 100 == 0:\n",
        "        print(f'epoch:{epoch+1}, Loss1:{loss1:.4e}, Loss2:{loss2:.4e}, Loss3:{loss3:.4e}')"
      ]
    },
    {
      "cell_type": "code",
      "execution_count": null,
      "metadata": {
        "colab": {
          "base_uri": "https://localhost:8080/"
        },
        "id": "2FT-YVL1f5jx",
        "outputId": "70918121-fcc3-4e04-c4f0-eb52f7f10a20"
      },
      "outputs": [
        {
          "output_type": "stream",
          "name": "stdout",
          "text": [
            "epoch:100, Total:2.5084e+02\n",
            "epoch:200, Total:1.0093e+02\n",
            "epoch:300, Total:5.8756e+01\n",
            "epoch:400, Total:3.7996e+01\n",
            "epoch:500, Total:2.6268e+01\n",
            "epoch:600, Total:1.9002e+01\n",
            "epoch:700, Total:1.4201e+01\n",
            "epoch:800, Total:1.0877e+01\n",
            "epoch:900, Total:8.4867e+00\n",
            "epoch:1000, Total:6.7161e+00\n",
            "epoch:1100, Total:5.3512e+00\n",
            "epoch:1200, Total:3.9909e+00\n",
            "epoch:1300, Total:2.8769e+00\n",
            "epoch:1400, Total:2.2234e+00\n",
            "epoch:1500, Total:1.7312e+00\n",
            "epoch:1600, Total:1.3628e+00\n",
            "epoch:1700, Total:1.1153e+00\n",
            "epoch:1800, Total:9.1979e-01\n",
            "epoch:1900, Total:1.1519e+00\n",
            "epoch:2000, Total:5.8598e+01\n",
            "epoch:2100, Total:4.4780e+01\n",
            "epoch:2200, Total:2.6000e+02\n",
            "epoch:2300, Total:1.1007e+01\n",
            "epoch:2400, Total:3.7407e+00\n",
            "epoch:2500, Total:1.9870e+03\n",
            "epoch:2600, Total:5.9834e-01\n",
            "epoch:2700, Total:1.2423e+00\n",
            "epoch:2800, Total:3.0376e-01\n",
            "epoch:2900, Total:2.5869e-01\n",
            "epoch:3000, Total:2.7592e+01\n"
          ]
        }
      ],
      "source": [
        "# Pretraining the neural network to fit different initial buckling mode\n",
        "nepoches = 3000\n",
        "learning_rate = 2e-3\n",
        "# optimizer_w = torch.optim.Adam(Net_w.parameters(), lr=learning_rate)\n",
        "# optimizer_f = torch.optim.Adam(Net_f.parameters(), lr=learning_rate)\n",
        "optimizer = torch.optim.Adam(list(Net_w.parameters()) + list(Net_u.parameters()) + list(Net_v.parameters()),\n",
        "                             lr= learning_rate)\n",
        "for epoch in range(nepoches):\n",
        "\n",
        "    PDE, BC = FvK_equation(Xf, Net_w, Net_u, Net_v)\n",
        "\n",
        "    loss = PDE + BC\n",
        "\n",
        "    loss.backward()\n",
        "    optimizer.step()\n",
        "    optimizer.zero_grad()\n",
        "\n",
        "    if (epoch+1) % 100 == 0:\n",
        "        print(f'epoch:{epoch+1}, Total:{loss:.4e}')"
      ]
    },
    {
      "cell_type": "code",
      "execution_count": null,
      "metadata": {
        "id": "juGxHsu6f64D",
        "outputId": "e15255df-1e04-4fcc-df4d-250c733c0e42",
        "colab": {
          "base_uri": "https://localhost:8080/"
        }
      },
      "outputs": [
        {
          "metadata": {
            "tags": null
          },
          "name": "stdout",
          "output_type": "stream",
          "text": [
            "epoch:100, Total:2.5883e-01, PDE:4.1676e-03, BC:2.5466e-01\n",
            "epoch:200, Total:2.2160e-01, PDE:4.7059e-03, BC:2.1690e-01\n",
            "epoch:300, Total:2.1095e-01, PDE:4.4058e-03, BC:2.0654e-01\n",
            "epoch:400, Total:1.9968e-01, PDE:3.8564e-03, BC:1.9583e-01\n",
            "epoch:500, Total:1.8899e-01, PDE:3.7940e-03, BC:1.8520e-01\n",
            "epoch:600, Total:1.7865e-01, PDE:3.8825e-03, BC:1.7477e-01\n",
            "epoch:700, Total:1.6884e-01, PDE:3.6061e-03, BC:1.6523e-01\n",
            "epoch:800, Total:1.5989e-01, PDE:3.7462e-03, BC:1.5615e-01\n",
            "epoch:900, Total:1.5171e-01, PDE:3.6380e-03, BC:1.4807e-01\n",
            "epoch:1000, Total:1.4447e-01, PDE:3.8591e-03, BC:1.4061e-01\n",
            "epoch:1100, Total:1.3744e-01, PDE:3.6407e-03, BC:1.3380e-01\n",
            "epoch:1200, Total:1.3107e-01, PDE:3.3774e-03, BC:1.2770e-01\n",
            "epoch:1300, Total:1.2568e-01, PDE:3.5458e-03, BC:1.2213e-01\n",
            "epoch:1400, Total:1.3639e-01, PDE:3.5621e-03, BC:1.3283e-01\n",
            "epoch:1500, Total:1.1870e-01, PDE:3.5571e-03, BC:1.1514e-01\n",
            "epoch:1600, Total:1.1538e-01, PDE:3.4601e-03, BC:1.1192e-01\n",
            "epoch:1700, Total:1.1382e-01, PDE:3.5712e-03, BC:1.1024e-01\n",
            "epoch:1800, Total:2.5086e-01, PDE:3.5167e-03, BC:2.4734e-01\n",
            "epoch:1900, Total:2.7708e+01, PDE:3.3370e-03, BC:2.7704e+01\n",
            "epoch:2000, Total:1.0395e-01, PDE:3.3261e-03, BC:1.0062e-01\n",
            "epoch:2100, Total:1.1506e+01, PDE:3.2713e-03, BC:1.1502e+01\n",
            "epoch:2200, Total:9.7633e-02, PDE:3.3534e-03, BC:9.4279e-02\n",
            "epoch:2300, Total:1.6447e-01, PDE:3.3253e-03, BC:1.6114e-01\n",
            "epoch:2400, Total:1.0563e-01, PDE:3.3243e-03, BC:1.0231e-01\n"
          ]
        }
      ],
      "source": [
        "# Actual training to get the buckled solution\n",
        "nepoches = 6000\n",
        "learning_rate = 1e-4\n",
        "optimizer = torch.optim.Adam(list(Net_w.parameters()) + list(Net_u.parameters()) + list(Net_v.parameters()),\n",
        "                             lr= learning_rate)\n",
        "\n",
        "for epoch in range(nepoches):\n",
        "    ## Calculate loss\n",
        "    PDE, BC = FvK_equation(Xf, Net_w, Net_u, Net_v)\n",
        "\n",
        "    loss = PDE + BC\n",
        "\n",
        "    loss.backward()\n",
        "    optimizer.step()\n",
        "    optimizer.zero_grad()\n",
        "\n",
        "    #if (epoch+1) % 200 == 0:\n",
        "    Xf1, Xf2 = train_data(Nx1, Ny1, Nf1)\n",
        "    Xf = torch.cat([Xf1, Xf2], dim=0)\n",
        "\n",
        "    if (epoch+1) % 100 == 0:\n",
        "        print(f'epoch:{epoch+1}, Total:{loss:.4e}, PDE:{PDE:.4e}, BC:{BC:.4e}')"
      ]
    },
    {
      "cell_type": "code",
      "execution_count": null,
      "metadata": {
        "id": "FloTb1vFgCuB"
      },
      "outputs": [],
      "source": [
        "x = np.linspace(-1,1,120).reshape([120,1])\n",
        "y = np.linspace(-1,1,120).reshape([120,1])\n",
        "X, Y = np.meshgrid(x, y)\n",
        "Xf = np.vstack([X.ravel(), Y.ravel()]).T\n",
        "Xf = torch.tensor(Xf, dtype=torch.float32, requires_grad=True)\n",
        "\n",
        "w = Net_w(Xf) * (func_w(Xf).view(-1, 1))\n",
        "u = Net_u(Xf) * (func_u1(Xf).view(-1, 1)) - eps_ * (func_u2(Xf).view(-1, 1))\n",
        "v = Net_v(Xf) * (func_v1(Xf).view(-1, 1))\n",
        "\n",
        "# Calculate Derivatives\n",
        "dw_x, dw_y, dw_xx, dw_yy, dw_xy = derivatives_2(Xf, w)\n",
        "du_x, du_y, du_xx, du_yy, du_xy = derivatives_2(Xf, u)\n",
        "dv_x, dv_y, dv_xx, dv_yy, dv_xy = derivatives_2(Xf, v)\n",
        "\n",
        "# Dimensionalize parameters\n",
        "w, u, v = w*h, u*a, v*b\n",
        "dw_x, dw_y, du_y, dv_x = dw_x*h/a, dw_y*h/b, du_y*a/b, dv_x*b/a\n",
        "dw_xx, dw_yy, dw_xy = dw_xx*h/a**2, dw_yy*h/b**2, dw_xy*h/a/b\n",
        "du_xx, du_yy, du_xy = du_xx*a/a**2, du_yy*a/b**2, du_xy*a/a/b\n",
        "dv_xx, dw_yy, dw_xy = dv_xx*b/a**2, dv_yy*b/b**2, dv_xy*b/a/b\n",
        "\n",
        "# Compatibility Equations\n",
        "    # Displacements\n",
        "eps_xx = du_x + 0.5*dw_x**2\n",
        "eps_yy = dv_y + 0.5*dw_y**2\n",
        "eps_xy = 0.5*(du_y + dv_x) + dw_y*dw_x\n",
        "\n",
        "k_xx = -dw_xx\n",
        "k_yy = -dw_yy\n",
        "k_xy = -dw_xy\n",
        "\n",
        "    # Resultants\n",
        "N_xx = C*(eps_xx + mu*eps_yy)\n",
        "N_yy = C*(eps_yy + mu*eps_xx)\n",
        "N_xy = C*(1 - mu)*eps_xy\n",
        "\n",
        "M_xx = D*(k_xx + mu*k_yy)\n",
        "M_yy = D*(k_yy + mu*k_xx)\n",
        "M_xy = D*(1 - mu)*dw_xy\n",
        "\n",
        "dN_xx_x = C*(du_xx + dw_x*dw_xx + mu*dv_xy + mu*dw_y*dw_xy)\n",
        "dN_xx_y = C*(du_xy + dw_x*dw_xy + mu*dv_yy + mu*dw_y*dw_yy)\n",
        "\n",
        "dN_yy_x = C*(mu*du_xx + mu*dw_x*dw_xx + dv_xy + dw_y*dw_xy)\n",
        "dN_yy_y = C*(mu*du_xy + mu*dw_x*dw_xy + dv_yy + dw_y*dw_yy)\n",
        "\n",
        "dN_xy_x = 0.5*C*(du_xy + dv_xx + dw_xx*dw_y + dw_xy*dw_x)\n",
        "dN_xy_y = 0.5*C*(du_yy + dv_xy + dw_xy*dw_y + dw_yy*dw_x)\n",
        "\n",
        "\n",
        "X = Xf[:,0].detach().numpy().reshape(-1,1)*a\n",
        "Y = Xf[:,1].detach().numpy().reshape(-1,1)*b\n",
        "\n",
        "W = w.detach().numpy().reshape(-1,1)\n",
        "U = u.detach().numpy().reshape(-1,1)\n",
        "V = v.detach().numpy().reshape(-1,1)\n",
        "\n",
        "N_xx = N_xx.detach().numpy().reshape(-1,1)\n",
        "N_yy = N_yy.detach().numpy().reshape(-1,1)\n",
        "M_xx = M_xx.detach().numpy().reshape(-1,1)\n",
        "M_yy = M_yy.detach().numpy().reshape(-1,1)\n",
        "\n",
        "eps_xy = eps_xy.detach().numpy().reshape(-1,1)\n",
        "du_x = du_x.detach().numpy().reshape(-1,1)\n",
        "du_y = du_y.detach().numpy().reshape(-1,1)"
      ]
    },
    {
      "cell_type": "code",
      "execution_count": null,
      "metadata": {
        "id": "5UmtFQeIgGJ8"
      },
      "outputs": [],
      "source": [
        "fig, ax = plt.subplots(figsize=(5.8, 4.8))\n",
        "\n",
        "surf = ax.scatter(X, Y, c = N_xx, cmap=cm.rainbow)\n",
        "\n",
        "cb = fig.colorbar(surf)\n",
        "\n",
        "cb.ax.tick_params(labelsize=16)\n",
        "\n",
        "ax.axis('equal')\n",
        "ax.set_xlabel('X Position (mm)', fontsize=18)\n",
        "ax.set_ylabel('Y Position (mm)', fontsize=18)\n",
        "ax.set_xticks(ticks=[-50, -25, 0., 25, 50])\n",
        "ax.set_yticks(ticks=[-50, -25, 0., 25, 50])\n",
        "for tick in ax.get_xticklabels():\n",
        "    tick.set_fontsize(16)\n",
        "for tick in ax.get_yticklabels():\n",
        "    tick.set_fontsize(16)\n",
        "\n",
        "plt.show()\n"
      ]
    },
    {
      "cell_type": "code",
      "execution_count": null,
      "metadata": {
        "id": "D4eS-QPJgJfX"
      },
      "outputs": [],
      "source": [
        "X = X.reshape(120,120)\n",
        "Y = Y.reshape(120,120)\n",
        "W = W.reshape(120,120)\n",
        "U = U.reshape(120,120)\n",
        "V = V.reshape(120,120)\n",
        "\n",
        "N_xx = N_xx.reshape(120,120)\n",
        "N_yy = N_yy.reshape(120,120)\n",
        "M_xx = M_xx.reshape(120,120)\n",
        "M_yy = M_yy.reshape(120,120)"
      ]
    },
    {
      "cell_type": "code",
      "execution_count": null,
      "metadata": {
        "id": "UqftpTV_gLGd"
      },
      "outputs": [],
      "source": [
        "fig = plt.figure(figsize=(8, 4.8))\n",
        "ax = plt.axes(projection='3d')\n",
        "surf = ax.plot_surface(X+10*U, Y+10*V, W, cmap=cm.rainbow)\n",
        "\n",
        "cb.ax.tick_params(labelsize=16)\n",
        "\n",
        "ax.set_xlabel('X Position (mm)', fontsize=16, labelpad=8)\n",
        "ax.set_ylabel('Y Position (mm)', fontsize=16, labelpad=8)\n",
        "\n",
        "ax.set_xticks(ticks=[-50, -25, 0., 25, 50])\n",
        "ax.set_yticks(ticks=[-50, -25, 0., 25, 50])\n",
        "\n",
        "for tick in ax.get_xticklabels():\n",
        "    tick.set_fontsize(16)\n",
        "for tick in ax.get_yticklabels():\n",
        "    tick.set_fontsize(16)\n",
        "\n",
        "plt.show()"
      ]
    },
    {
      "cell_type": "code",
      "execution_count": null,
      "metadata": {
        "id": "vtn5LbIsR0DZ"
      },
      "outputs": [],
      "source": []
    },
    {
      "cell_type": "code",
      "execution_count": null,
      "metadata": {
        "id": "3I2wOhL-R0DZ"
      },
      "outputs": [],
      "source": []
    }
  ],
  "metadata": {
    "colab": {
      "provenance": [],
      "machine_shape": "hm",
      "gpuType": "V100",
      "include_colab_link": true
    },
    "kernelspec": {
      "display_name": "Python 3",
      "name": "python3"
    },
    "language_info": {
      "codemirror_mode": {
        "name": "ipython",
        "version": 3
      },
      "file_extension": ".py",
      "mimetype": "text/x-python",
      "name": "python",
      "nbconvert_exporter": "python",
      "pygments_lexer": "ipython3",
      "version": "3.11.4"
    },
    "accelerator": "GPU"
  },
  "nbformat": 4,
  "nbformat_minor": 0
}